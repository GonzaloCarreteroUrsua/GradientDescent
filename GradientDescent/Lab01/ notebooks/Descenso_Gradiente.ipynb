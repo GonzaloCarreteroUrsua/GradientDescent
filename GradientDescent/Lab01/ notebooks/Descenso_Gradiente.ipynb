{
 "cells": [
  {
   "cell_type": "markdown",
   "metadata": {},
   "source": [
    "# Descenso del gradiente\n"
   ]
  },
  {
   "cell_type": "markdown",
   "metadata": {},
   "source": [
    "## Gonzalo Carretero Ursúa\n"
   ]
  },
  {
   "cell_type": "markdown",
   "metadata": {},
   "source": [
    "## Índice de contenidos\n",
    "* [1. Introducción](#item1)\n",
    "* [2. Librerías](#item2)\n",
    "* [3. Datos](#item3)\n",
    "* [4. Diagrama de dispersión](#item4)\n",
    "* [5. Función de activación o Función Sigmoide](#item5)\n",
    "* [6. Función de Costes](#item6)\n",
    "* [7. Descenso del Gradiente](#item7)\n",
    "* [8. Gráfico Convergencia](#item8)\n",
    "* [9. Probabilidad Aprobar](#item9)\n",
    "\n",
    "\n"
   ]
  },
  {
   "cell_type": "markdown",
   "metadata": {},
   "source": [
    "<a name=\"item1\"></a>\n",
    "### 1. Introducción"
   ]
  },
  {
   "cell_type": "markdown",
   "metadata": {},
   "source": [
    "El método del descenso del gradiente es un proceso que va realizando iteraciones o actualizaciones sobre una función de costes o error. Es común su uso para el entrenamiento de redes neuronales.\n",
    "\n",
    "El objetivo para el que se utiliza el descenso del gradiente es para encontrar la combinación de parámetros con el error o coste mínimo global."
   ]
  },
  {
   "cell_type": "markdown",
   "metadata": {},
   "source": [
    "<a name=\"item2\"></a>\n",
    "### 2. Librerías "
   ]
  },
  {
   "cell_type": "code",
   "execution_count": 113,
   "metadata": {},
   "outputs": [],
   "source": [
    "import numpy as np\n",
    "import seaborn as sns\n",
    "import pandas as pd\n",
    "import matplotlib.pyplot as plt\n",
    "%matplotlib inline"
   ]
  },
  {
   "cell_type": "markdown",
   "metadata": {},
   "source": [
    "<a name=\"item3\"></a>\n",
    "### 3. Datos"
   ]
  },
  {
   "cell_type": "code",
   "execution_count": 114,
   "metadata": {},
   "outputs": [
    {
     "data": {
      "text/html": [
       "<div>\n",
       "<style scoped>\n",
       "    .dataframe tbody tr th:only-of-type {\n",
       "        vertical-align: middle;\n",
       "    }\n",
       "\n",
       "    .dataframe tbody tr th {\n",
       "        vertical-align: top;\n",
       "    }\n",
       "\n",
       "    .dataframe thead th {\n",
       "        text-align: right;\n",
       "    }\n",
       "</style>\n",
       "<table border=\"1\" class=\"dataframe\">\n",
       "  <thead>\n",
       "    <tr style=\"text-align: right;\">\n",
       "      <th></th>\n",
       "      <th>score-1</th>\n",
       "      <th>score-2</th>\n",
       "      <th>label</th>\n",
       "    </tr>\n",
       "  </thead>\n",
       "  <tbody>\n",
       "    <tr>\n",
       "      <th>0</th>\n",
       "      <td>34.623660</td>\n",
       "      <td>78.024693</td>\n",
       "      <td>0</td>\n",
       "    </tr>\n",
       "    <tr>\n",
       "      <th>1</th>\n",
       "      <td>30.286711</td>\n",
       "      <td>43.894998</td>\n",
       "      <td>0</td>\n",
       "    </tr>\n",
       "    <tr>\n",
       "      <th>2</th>\n",
       "      <td>35.847409</td>\n",
       "      <td>72.902198</td>\n",
       "      <td>0</td>\n",
       "    </tr>\n",
       "    <tr>\n",
       "      <th>3</th>\n",
       "      <td>60.182599</td>\n",
       "      <td>86.308552</td>\n",
       "      <td>1</td>\n",
       "    </tr>\n",
       "    <tr>\n",
       "      <th>4</th>\n",
       "      <td>79.032736</td>\n",
       "      <td>75.344376</td>\n",
       "      <td>1</td>\n",
       "    </tr>\n",
       "  </tbody>\n",
       "</table>\n",
       "</div>"
      ],
      "text/plain": [
       "     score-1    score-2  label\n",
       "0  34.623660  78.024693      0\n",
       "1  30.286711  43.894998      0\n",
       "2  35.847409  72.902198      0\n",
       "3  60.182599  86.308552      1\n",
       "4  79.032736  75.344376      1"
      ]
     },
     "execution_count": 114,
     "metadata": {},
     "output_type": "execute_result"
    }
   ],
   "source": [
    "data = pd.read_csv('../data/4_1_data.csv')\n",
    "data.head()"
   ]
  },
  {
   "cell_type": "markdown",
   "metadata": {},
   "source": [
    "En este caso tenemos dos variables de predicción (score-1, score-2) y la variable respuesta, que es label (Aprobado o Suspenso)."
   ]
  },
  {
   "cell_type": "code",
   "execution_count": 162,
   "metadata": {},
   "outputs": [
    {
     "data": {
      "text/plain": [
       "(100, 3)"
      ]
     },
     "execution_count": 162,
     "metadata": {},
     "output_type": "execute_result"
    }
   ],
   "source": [
    "data.shape"
   ]
  },
  {
   "cell_type": "code",
   "execution_count": 158,
   "metadata": {},
   "outputs": [],
   "source": [
    "scores = data[['score-1', 'score-2']].values\n",
    "results = data['label'].values"
   ]
  },
  {
   "cell_type": "markdown",
   "metadata": {},
   "source": [
    "<a name=\"item4\"></a>\n",
    "### 4. Diagrama de dispersión"
   ]
  },
  {
   "cell_type": "code",
   "execution_count": 116,
   "metadata": {},
   "outputs": [
    {
     "data": {
      "image/png": "[encoded data removed]",
      "text/plain": [
       "<Figure size 432x288 with 1 Axes>"
      ]
     },
     "metadata": {
      "needs_background": "light"
     },
     "output_type": "display_data"
    }
   ],
   "source": [
    "# La función reshape nos devuelve un array con booleanos en función de la condición escrita anteriormente\n",
    "passed = (results == 1).reshape(100, 1) # En este caso la condición es que en la columna label tenga el valor 1\n",
    "failed = (results == 0).reshape(100, 1) # Aqui la condición es que la columna label sea igual a 0\n",
    "\n",
    "ax = sns.scatterplot(x = scores[passed[:, 0], 0], # Crea el gráfico para los aprobados, es decir, label = 1\n",
    "                     y = scores[passed[:, 0], 1],\n",
    "                     marker = \"^\", # Marker nos permite seleccionar la forma en la que se representan los puntos\n",
    "                     color = \"black\", # Color para los aprobados\n",
    "                     s = 60)\n",
    "sns.scatterplot(x = scores[failed[:, 0], 0], # En este apartado los crea los puntos que corresponden a los suspensos\n",
    "                y = scores[failed[:, 0], 1],\n",
    "                marker = \"X\",\n",
    "                color = \"red\",\n",
    "                s = 60)\n",
    "\n",
    "ax.set(xlabel=\"DMV Written Test 1 Scores\", ylabel=\"DMV Written Test 2 Scores\") # Títulos de los ejes\n",
    "ax.legend([\"Passed\", \"Failed\"])\n",
    "plt.show();"
   ]
  },
  {
   "cell_type": "markdown",
   "metadata": {},
   "source": [
    "El gráfico de dispersión visualiza las combinaciones de puntuaciones en los test que tenemos en el dataset. Un triángulo negro significa que está aprobado (label = 1) y una cruz roja significa que esta suspenso (label = 0)."
   ]
  },
  {
   "cell_type": "markdown",
   "metadata": {},
   "source": [
    "<a name=\"item5\"></a>\n",
    "### 5. Función de activación o Función Sigmoide\n"
   ]
  },
  {
   "cell_type": "markdown",
   "metadata": {},
   "source": [
    "La función sigmoide nos dice la forma de relación que tienen los parámetros. Regresión logística."
   ]
  },
  {
   "cell_type": "code",
   "execution_count": 147,
   "metadata": {},
   "outputs": [],
   "source": [
    "def Sigmoid(x):    # Creamos nosotros la función Sigmoide.\n",
    "    return 1/ (1 + np.exp(-x)) # np.exp representa la constante exponencial,'e'"
   ]
  },
  {
   "cell_type": "code",
   "execution_count": 148,
   "metadata": {},
   "outputs": [
    {
     "data": {
      "image/png": "[encoded data removed]",
      "text/plain": [
       "<Figure size 432x288 with 1 Axes>"
      ]
     },
     "metadata": {
      "needs_background": "light"
     },
     "output_type": "display_data"
    }
   ],
   "source": [
    "x = np.linspace(-10, 10, 1000) # Eje de abcisas \n",
    "y1 = Sigmoid(x) # El eje de ordenadas nos indicará los valores de la función Sigmoide [0,1]\n",
    "\n",
    "plt.plot(x, y1, label='Sigmoid')\n",
    "plt.legend(loc='upper left')\n",
    "plt.show()"
   ]
  },
  {
   "cell_type": "markdown",
   "metadata": {},
   "source": [
    "<a name=\"item6\"></a>\n",
    "###  6. Función de Costes"
   ]
  },
  {
   "cell_type": "markdown",
   "metadata": {},
   "source": [
    "La función de costes indica la relación de los parámetros y el error o coste que tiene dicha combinación. El objetivo es encontrar el mínimo error posible. Por tanto es el \"mapa\" por el cuál se irá moviendo el gradiente buscando combinaciones posibles."
   ]
  },
  {
   "cell_type": "code",
   "execution_count": 139,
   "metadata": {},
   "outputs": [],
   "source": [
    "def Cost(theta, x, y):  \n",
    "    m = len(y) # m nos indica el número de datos que tenemos\n",
    "    y_pred = Sigmoid(np.dot(x , theta)) # np.dot multiplica\n",
    "    error = (y * np.log(y_pred)) + ((1 - y) * np.log(1 - y_pred))\n",
    "    cost = -1 / m * sum(error) # Este es el valor que estamos buscando minimizar\n",
    "    gradient = 1 / m * np.dot(x.transpose(), (y_pred - y))\n",
    "    return cost[0] , gradient "
   ]
  },
  {
   "cell_type": "markdown",
   "metadata": {},
   "source": [
    "<a name=\"item7\"></a>\n",
    "###  7. Descenso del Gradiente"
   ]
  },
  {
   "cell_type": "markdown",
   "metadata": {},
   "source": [
    "El gradiente va realizando combinaciones, en nuestro caso de dos parámetros, hasta encontrar el punto mínimo de la función de costes, lo que significa que el error es mínimo. Va realizando actualizaciones (iteraciones), nosotros le indicamos el número, hasta encontrar el mínimo. Lo que avanza en cada una de estas actualizaciones es lo que conocemos cómo la tasa de aprendizaje.\n",
    "La tasa de aprendizaje no debe de ser muy pequeña, ya que podría quedarse estancado en un mínimo local, por tanto no encontraría el mínimo absoluto, ni tampoco muy grande, ya que daría pasos demasiado grandes y podría no llegar a encontrar el mínimo."
   ]
  },
  {
   "cell_type": "code",
   "execution_count": 151,
   "metadata": {},
   "outputs": [],
   "source": [
    "# Theta: Combinación de parámetros\n",
    "# Alpha es el ratio de aprendizaje \n",
    "# Iterations: número de actualziaciones que queremos que haga el gradiente\n",
    "def Gradiente(x, y, theta, alpha, iterations): # Al crear la función del gradiente debemos indicar la tasa de\n",
    "    costs = []                                 # de aprendizaje y las iteraciones que queramos que realice.\n",
    "    for i in range(iterations):\n",
    "        cost, Gradiente = Cost(theta, x, y) \n",
    "        theta -= (alpha * Gradiente)\n",
    "        costs.append(cost)\n",
    "    return theta, costs # Nos devuelve la combinación con el mínimo cost"
   ]
  },
  {
   "cell_type": "markdown",
   "metadata": {},
   "source": [
    "### 9. Punto Inicial"
   ]
  },
  {
   "cell_type": "markdown",
   "metadata": {},
   "source": [
    "En este apartado indicamos los valores del punto de partida.\n",
    "Sirve para indicar a la función del gradiente, cuando la vayamos a utilizar, el punto desde el que tiene que iniciarse. \n",
    "(No es estrictamente necesario para poder ejecutar el código)"
   ]
  },
  {
   "cell_type": "code",
   "execution_count": 152,
   "metadata": {},
   "outputs": [
    {
     "name": "stdout",
     "output_type": "stream",
     "text": [
      "Coste 0.693147180559946\n",
      "Gradiente: [[-0.1       ]\n",
      " [-0.28122914]\n",
      " [-0.25098615]]\n"
     ]
    }
   ],
   "source": [
    "mean_scores = np.mean(scores, axis=0)\n",
    "std_scores = np.std(scores, axis=0)\n",
    "scores = (scores - mean_scores) / std_scores # Tipificar o estandarizar la variable scores\n",
    "\n",
    "rows = scores.shape[0]\n",
    "cols = scores.shape[1]\n",
    "\n",
    "X = np.append(np.ones((rows, 1)), scores, axis=1) #include intercept\n",
    "y = results.reshape(rows, 1)\n",
    "\n",
    "theta_init = np.zeros((cols + 1, 1))\n",
    "cost, gradient = Cost(theta_init, X, y)\n",
    "\n",
    "print(\"Coste\", cost)\n",
    "print(\"Gradiente:\", gradient) "
   ]
  },
  {
   "cell_type": "code",
   "execution_count": 122,
   "metadata": {},
   "outputs": [],
   "source": [
    "theta, costs = Gradiente(X, y, theta_init, 1, 200) # El 1 es la tasa de aprendizaje (alpha), 200 son las iteraciones\n",
    "# En este caso selecciona el punto de inicio creado en el apartado anterior."
   ]
  },
  {
   "cell_type": "code",
   "execution_count": null,
   "metadata": {},
   "outputs": [],
   "source": [
    "# Podemos jugar con el número de iteraciones y la tasa de aprendizaje del descenso del gradiente. Pero\n",
    "# hay que evitar tasas muy pequeñas o muy elevadas cómo comente anteriormente."
   ]
  },
  {
   "cell_type": "code",
   "execution_count": 123,
   "metadata": {},
   "outputs": [
    {
     "name": "stdout",
     "output_type": "stream",
     "text": [
      "Theta [[1.50850586]\n",
      " [3.5468762 ]\n",
      " [3.29383709]]\n",
      "Coste: 0.20489382036036602\n"
     ]
    }
   ],
   "source": [
    "print(\"Theta\", theta) # Combinación de parámetros del gradiente, en este caso, cómo tenemos dos parámetros más\n",
    "# el valor de la pendiente que sigue el gradiente para encontrar el mínimo. Por tanto, tres ejes.\n",
    "print(\"Coste:\", costs[-1]) # Nos devuelve el coste mínimo global"
   ]
  },
  {
   "cell_type": "markdown",
   "metadata": {},
   "source": [
    "El resultado indica la combinación de los parámetros y el resultado del coste mínimo con el número de iteraciones y la tasa de aprendizaje que hemos escogido."
   ]
  },
  {
   "cell_type": "markdown",
   "metadata": {},
   "source": [
    "<a name=\"item8\"></a>\n",
    "### 8. Gráfico de convergencia"
   ]
  },
  {
   "cell_type": "code",
   "execution_count": 146,
   "metadata": {
    "scrolled": true
   },
   "outputs": [
    {
     "data": {
      "image/png": "[encoded data removed]",
      "text/plain": [
       "<Figure size 432x288 with 1 Axes>"
      ]
     },
     "metadata": {
      "needs_background": "light"
     },
     "output_type": "display_data"
    }
   ],
   "source": [
    "plt.plot(costs)\n",
    "plt.xlabel(\"Iterations\") # El número de iteraciones que decidamos poner eje x\n",
    "plt.ylabel(\"$J(\\Theta)$\") # La combinación de parámetros en la función de costes será el eje y\n",
    "plt.title(\"Values of Cost Function over iterations of Gradient Descent\");"
   ]
  },
  {
   "cell_type": "markdown",
   "metadata": {},
   "source": [
    "Nos representa el valor de la función de costes en función del número de iteraciones que introduzcamos en el gradiente. Podemos observar que a mayor número de iteraciones menor será el valor de la función de costes."
   ]
  },
  {
   "cell_type": "markdown",
   "metadata": {},
   "source": [
    "<a name=\"item9\"></a>\n",
    "### 9. Probabilidad Aprobar\n"
   ]
  },
  {
   "cell_type": "code",
   "execution_count": 130,
   "metadata": {},
   "outputs": [],
   "source": [
    "def predict(theta, x):\n",
    "    results = x.dot(theta)\n",
    "    return results > 0 "
   ]
  },
  {
   "cell_type": "code",
   "execution_count": 131,
   "metadata": {},
   "outputs": [
    {
     "name": "stdout",
     "output_type": "stream",
     "text": [
      "Training Accuracy: 89 %\n"
     ]
    }
   ],
   "source": [
    "p = predict(theta, X)\n",
    "print(\"Training Accuracy:\", sum(p==y)[0],\"%\")"
   ]
  },
  {
   "cell_type": "code",
   "execution_count": 142,
   "metadata": {},
   "outputs": [
    {
     "name": "stdout",
     "output_type": "stream",
     "text": [
      "0.74\n"
     ]
    }
   ],
   "source": [
    "test = np.array([40,90]) # Estos valores son escogidos al azar. El primer valor es la puntuación del primer test\n",
    "test = (test - mean_scores)/std_scores    # El segundo número es el valor del segundo test.\n",
    "test = np.append(np.ones(1), test)\n",
    "probability = Sigmoid(test.dot(theta))\n",
    "print(np.round(probability[0], 2))"
   ]
  },
  {
   "cell_type": "markdown",
   "metadata": {},
   "source": [
    "Esto nos da la probabilidad de aprobar (passed == 1) con los valores que hemos seleccionado"
   ]
  },
  {
   "cell_type": "code",
   "execution_count": null,
   "metadata": {},
   "outputs": [],
   "source": []
  }
 ],
 "metadata": {
  "kernelspec": {
   "display_name": "grad",
   "language": "python",
   "name": "grad"
  },
  "language_info": {
   "codemirror_mode": {
    "name": "ipython",
    "version": 3
   },
   "file_extension": ".py",
   "mimetype": "text/x-python",
   "name": "python",
   "nbconvert_exporter": "python",
   "pygments_lexer": "ipython3",
   "version": "3.8.5"
  }
 },
 "nbformat": 4,
 "nbformat_minor": 4
}
